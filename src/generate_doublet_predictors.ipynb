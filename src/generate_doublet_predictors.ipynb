{
 "cells": [
  {
   "cell_type": "code",
   "execution_count": 1,
   "metadata": {},
   "outputs": [
    {
     "name": "stdout",
     "output_type": "stream",
     "text": [
      "Populating the interactive namespace from numpy and matplotlib\n"
     ]
    }
   ],
   "source": [
    "%pylab inline\n",
    "from doublet_detector import *"
   ]
  },
  {
   "cell_type": "code",
   "execution_count": 2,
   "metadata": {
    "collapsed": true
   },
   "outputs": [],
   "source": [
    "plt.rc('font', size=14)"
   ]
  },
  {
   "cell_type": "markdown",
   "metadata": {},
   "source": [
    "### Read in raw counts (rows=cells, columns=genes)"
   ]
  },
  {
   "cell_type": "code",
   "execution_count": null,
   "metadata": {
    "collapsed": true
   },
   "outputs": [],
   "source": [
    "\n",
    "E = scipy.io.mmread('/home/jovyan/jamboree/doublet-datasets/dataset1/Ye2_sparse_molecule_counts.mtx').toarray()\n",
    "\n",
    "print E.shape"
   ]
  },
  {
   "cell_type": "markdown",
   "metadata": {},
   "source": [
    "### Calculate scores - training set"
   ]
  },
  {
   "cell_type": "code",
   "execution_count": 3,
   "metadata": {},
   "outputs": [
    {
     "name": "stdout",
     "output_type": "stream",
     "text": [
      "11086\n"
     ]
    }
   ],
   "source": [
    "# load cell barcode names for the full data set\n",
    "all_bcs = list(np.loadtxt('/home/jovyan/jamboree/doublet-datasets/dataset1/Ye2_barcode_id.csv', \n",
    "                          delimiter=',', dtype=str)[:,1])\n",
    "\n",
    "# load cell barcode names and singlet/doublet labels for the training set\n",
    "dat = np.loadtxt('/home/jovyan/jamboree/doublet-datasets/dataset1/Ye2_L001_001_train_labels.txt', dtype=str)\n",
    "train_bcs = dat[:,0]\n",
    "train_doub_labels = dat[:,1]\n",
    "\n",
    "# match full BC list to training BC list\n",
    "train_cell_ix = np.array([all_bcs.index(x) for x in train_bcs])\n",
    "\n",
    "print len(train_cell_ix)\n"
   ]
  },
  {
   "cell_type": "code",
   "execution_count": 4,
   "metadata": {
    "collapsed": true
   },
   "outputs": [],
   "source": [
    "# Predictor 1: total UMIs per cell\n",
    "# UMIs/cell is a simple predictor for doublets, but fairly effective for this data set\n",
    "\n",
    "tot_counts = np.sum(E[train_cell_ix, :], axis=1)"
   ]
  },
  {
   "cell_type": "code",
   "execution_count": 5,
   "metadata": {},
   "outputs": [
    {
     "name": "stdout",
     "output_type": "stream",
     "text": [
      "Total count normalizing\n",
      "Finding highly variable genes\n",
      "('Using', 984, 'genes for PCA')\n",
      "Simulating doublets\n",
      "('Running KNN classifier with k =', 450)\n",
      "Done\n"
     ]
    }
   ],
   "source": [
    "# Predictor 2: Similarity to simulated doublets\n",
    "# This predictor is good at picking out doublets that are combinations of two transcriptionally distinct cells\n",
    "\n",
    "doub_score_obs, doub_score_full, doub_labels_sim = detect_doublets(E[train_cell_ix, :], doub_frac=5, k=75, num_pc=30, \n",
    "                                                              min_counts=3, min_cells=3, vscore_percentile=80)\n",
    "\n",
    "\n"
   ]
  },
  {
   "cell_type": "code",
   "execution_count": 16,
   "metadata": {
    "collapsed": true
   },
   "outputs": [],
   "source": [
    "# Save predictors to a CSV file (our hacked-together pipeline uses R for)\n",
    "outdat = np.zeros(len(tot_counts), dtype='S16,float,int,S16')\n",
    "outdat['f0'] = train_bcs\n",
    "outdat['f1'] = doub_score_obs\n",
    "outdat['f2'] = tot_counts\n",
    "outdat['f3'] = train_doub_labels\n",
    "\n",
    "np.savetxt('doub_predictors.train.csv', outdat, \n",
    "           header = 'bc,doub_score,tot_counts,known_cell_label', \n",
    "           fmt = '%s,%.4f,%i,%s',\n",
    "           comments='')"
   ]
  },
  {
   "cell_type": "markdown",
   "metadata": {},
   "source": [
    "### Calculate scores - test set"
   ]
  },
  {
   "cell_type": "code",
   "execution_count": 17,
   "metadata": {
    "collapsed": true
   },
   "outputs": [],
   "source": [
    "test_bcs = np.loadtxt('/home/jovyan/jamboree/doublet-datasets/dataset1/Ye2_L001_001_test_labels_predict_me.txt', \n",
    "                      dtype=str)\n",
    "test_cell_ix = np.array([all_bcs.index(x) for x in test_bcs])\n",
    "\n",
    "print len(test_cell_ix)"
   ]
  },
  {
   "cell_type": "code",
   "execution_count": 18,
   "metadata": {
    "collapsed": true
   },
   "outputs": [],
   "source": [
    "tot_counts = np.sum(E[test_cell_ix, :], axis=1)"
   ]
  },
  {
   "cell_type": "code",
   "execution_count": 19,
   "metadata": {},
   "outputs": [
    {
     "name": "stdout",
     "output_type": "stream",
     "text": [
      "Total count normalizing\n",
      "Finding highly variable genes\n",
      "('Using', 1041, 'genes for PCA')\n",
      "Simulating doublets\n",
      "('Running KNN classifier with k =', 450)\n",
      "Done\n"
     ]
    }
   ],
   "source": [
    "doub_score_obs, doub_score_full, doub_labels_sim = detect_doublets(E[test_cell_ix, :], doub_frac=5, k=75, num_pc=30, \n",
    "                                                              min_counts=3, min_cells=3, vscore_percentile=80)\n"
   ]
  },
  {
   "cell_type": "code",
   "execution_count": 20,
   "metadata": {
    "collapsed": true
   },
   "outputs": [],
   "source": [
    "outdat = np.zeros(len(tot_counts), dtype='S16,float,int')\n",
    "outdat['f0'] = test_bcs\n",
    "outdat['f1'] = doub_score_obs\n",
    "outdat['f2'] = tot_counts\n",
    "\n",
    "np.savetxt('doub_predictors.test.csv', outdat, \n",
    "           header = 'bc,doub_score,tot_counts', \n",
    "           fmt = '%s,%.4f,%i',\n",
    "           comments='')"
   ]
  },
  {
   "cell_type": "markdown",
   "metadata": {},
   "source": [
    "# Check out the results"
   ]
  },
  {
   "cell_type": "code",
   "execution_count": 3,
   "metadata": {
    "collapsed": true
   },
   "outputs": [],
   "source": [
    "train_dat = np.loadtxt('doub_predictors.train.csv', dtype='S16,float,int,S16', delimiter=',',skiprows=1)\n",
    "test_dat = np.loadtxt('doub_predictors.test.csv', dtype='S16,float,int', delimiter=',',skiprows=1)\n",
    "\n",
    "doub_score_train = train_dat['f1']\n",
    "tot_counts_train = train_dat['f2']\n",
    "train_doub_labels = train_dat['f3']\n",
    "\n",
    "doub_score_test = test_dat['f1']\n",
    "tot_counts_test = test_dat['f2']\n",
    "\n",
    "dat = np.loadtxt('/home/jovyan/jamboree/doublet-datasets/dataset1/Ye2_L001_001_train_labels.txt', dtype=str)\n",
    "train_bcs = dat[:,0]\n",
    "train_doub_labels = dat[:,1]"
   ]
  },
  {
   "cell_type": "markdown",
   "metadata": {},
   "source": [
    "### Training data"
   ]
  },
  {
   "cell_type": "code",
   "execution_count": 6,
   "metadata": {},
   "outputs": [
    {
     "data": {
      "text/plain": [
       "<matplotlib.legend.Legend at 0x7f670352ca50>"
      ]
     },
     "execution_count": 6,
     "metadata": {},
     "output_type": "execute_result"
    },
    {
     "data": {
      "image/png": "[encoded data removed]",
      "text/plain": [
       "<matplotlib.figure.Figure at 0x7f67065949d0>"
      ]
     },
     "metadata": {},
     "output_type": "display_data"
    },
    {
     "data": {
      "image/png": "[encoded data removed]",
      "text/plain": [
       "<matplotlib.figure.Figure at 0x7f67436f2d50>"
      ]
     },
     "metadata": {},
     "output_type": "display_data"
    }
   ],
   "source": [
    "fig, ax = plt.subplots(1,1)\n",
    "ax.hist(doub_score_train[train_doub_labels=='singlet'], normed=True, bins=np.linspace(0, 1, 40), \n",
    "        alpha = 0.3, label='singlets');\n",
    "ax.hist(doub_score_train[train_doub_labels=='doublet'], normed=True, bins=np.linspace(0, 1, 40), \n",
    "        alpha = 0.3, label='doublets');\n",
    "ax.set_xlabel('doublet score')\n",
    "ax.legend()\n",
    "\n",
    "\n",
    "fig, ax = plt.subplots(1,1)\n",
    "ax.hist(np.log10(tot_counts_train[(train_doub_labels=='singlet')]), normed=True, bins=30, \n",
    "        alpha = 0.3, label='singlet');\n",
    "ax.hist(np.log10(tot_counts_train[(train_doub_labels=='doublet')]), normed=True, bins=30, \n",
    "        alpha = 0.3, label='doublets');\n",
    "ax.set_xlabel('log10(total counts)')\n",
    "ax.legend()\n"
   ]
  },
  {
   "cell_type": "markdown",
   "metadata": {},
   "source": [
    "### Test data"
   ]
  },
  {
   "cell_type": "code",
   "execution_count": 7,
   "metadata": {},
   "outputs": [
    {
     "data": {
      "text/plain": [
       "<matplotlib.text.Text at 0x7f67033cda10>"
      ]
     },
     "execution_count": 7,
     "metadata": {},
     "output_type": "execute_result"
    },
    {
     "data": {
      "image/png": "[encoded data removed]",
      "text/plain": [
       "<matplotlib.figure.Figure at 0x7f6706649310>"
      ]
     },
     "metadata": {},
     "output_type": "display_data"
    },
    {
     "data": {
      "image/png": "[encoded data removed]",
      "text/plain": [
       "<matplotlib.figure.Figure at 0x7f67034359d0>"
      ]
     },
     "metadata": {},
     "output_type": "display_data"
    }
   ],
   "source": [
    "\n",
    "fig, ax = plt.subplots(1,1)\n",
    "ax.hist(doub_score_test, normed=True, bins=np.linspace(0, 1, 40), alpha = 0.3);\n",
    "ax.set_xlabel('doublet score')\n",
    "\n",
    "\n",
    "fig, ax = plt.subplots(1,1)\n",
    "ax.hist(np.log10(tot_counts_test), normed=True, bins=30, alpha = 0.3);\n",
    "ax.set_xlabel('log10(total counts)')\n"
   ]
  },
  {
   "cell_type": "markdown",
   "metadata": {},
   "source": [
    "# Integrate the two predictors using a GLM"
   ]
  },
  {
   "cell_type": "markdown",
   "metadata": {},
   "source": [
    "### Fit model using the training data"
   ]
  },
  {
   "cell_type": "code",
   "execution_count": 116,
   "metadata": {},
   "outputs": [
    {
     "data": {
      "text/plain": [
       "LogisticRegression(C=1.0, class_weight=None, dual=False, fit_intercept=True,\n",
       "          intercept_scaling=1, max_iter=1000, multi_class='ovr', n_jobs=1,\n",
       "          penalty='l1', random_state=None, solver='liblinear', tol=0.0001,\n",
       "          verbose=0, warm_start=False)"
      ]
     },
     "execution_count": 116,
     "metadata": {},
     "output_type": "execute_result"
    }
   ],
   "source": [
    "glm = sklearn.linear_model.LogisticRegression(penalty='l1', max_iter = 1000)\n",
    "glm.fit(np.hstack((doub_score_train[:, None], np.log10(tot_counts_train)[:,None])),\n",
    "        train_doub_labels)"
   ]
  },
  {
   "cell_type": "markdown",
   "metadata": {},
   "source": [
    "### Apply the model"
   ]
  },
  {
   "cell_type": "code",
   "execution_count": 166,
   "metadata": {},
   "outputs": [
    {
     "name": "stdout",
     "output_type": "stream",
     "text": [
      "AUC = 0.9151\n",
      "Set threshold for FPR = 0.08 (TPR = 0.81)\n",
      "Predicted doublet rates:\n",
      "\t Training set: 21% \n",
      "\t Test set: 22%\n"
     ]
    },
    {
     "data": {
      "image/png": "[encoded data removed]",
      "text/plain": [
       "<matplotlib.figure.Figure at 0x7f1415bbfbd0>"
      ]
     },
     "metadata": {},
     "output_type": "display_data"
    }
   ],
   "source": [
    "desired_fpr = 0.08\n",
    "\n",
    "\n",
    "prob_train = glm.predict_proba(np.hstack((doub_score_train[:, None], np.log10(tot_counts_train)[:,None])))[:,0]\n",
    "\n",
    "print 'AUC = %.4f' %(sklearn.metrics.roc_auc_score(train_doub_labels == 'doublet', prob_train))\n",
    "\n",
    "\n",
    "fpr, tpr, thr = sklearn.metrics.roc_curve(train_doub_labels == 'doublet', prob_train)\n",
    "fpr_ix = np.argmin(abs(fpr - desired_fpr))\n",
    "\n",
    "fig, ax = plt.subplots(1,1)\n",
    "ax.plot(fpr, tpr)\n",
    "ax.set_xlabel('FPR')\n",
    "ax.set_ylabel('TPR')\n",
    "ax.set_xlim((0,1))\n",
    "ax.set_ylim((0,1))\n",
    "ax.plot([desired_fpr, desired_fpr], ax.get_ylim())\n",
    "\n",
    "\n",
    "\n",
    "resulting_tpr = tpr[fpr_ix]\n",
    "min_prob = thr[fpr_ix]\n",
    "\n",
    "print 'Set threshold for FPR = %.2f (TPR = %.2f)' %(desired_fpr, resulting_tpr)\n",
    "\n",
    "prob_test = glm.predict_proba(np.hstack((doub_score_test[:, None], np.log10(tot_counts_test)[:,None])))[:,0]\n",
    "\n",
    "print 'Predicted doublet rates:\\n\\t Training set: %i%s \\n\\t Test set: %i%s' %( \n",
    "                100 * np.sum(prob_train > min_prob) / float(len(prob_train)), \"%\",\n",
    "                100 * np.sum(prob_test > min_prob) / float(len(prob_test)), \"%\")"
   ]
  },
  {
   "cell_type": "code",
   "execution_count": null,
   "metadata": {
    "collapsed": true
   },
   "outputs": [],
   "source": []
  }
 ],
 "metadata": {
  "kernelspec": {
   "display_name": "Python 2",
   "language": "python",
   "name": "python2"
  },
  "language_info": {
   "codemirror_mode": {
    "name": "ipython",
    "version": 2
   },
   "file_extension": ".py",
   "mimetype": "text/x-python",
   "name": "python",
   "nbconvert_exporter": "python",
   "pygments_lexer": "ipython2",
   "version": "2.7.13"
  }
 },
 "nbformat": 4,
 "nbformat_minor": 2
}
